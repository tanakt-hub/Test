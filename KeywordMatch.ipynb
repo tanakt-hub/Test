{
  "nbformat": 4,
  "nbformat_minor": 0,
  "metadata": {
    "colab": {
      "name": "KeywordMatch.ipynb",
      "provenance": [],
      "collapsed_sections": [],
      "mount_file_id": "1JPmLcjEFw-3y4eRmbaPyIHO3ZqUxJDUw",
      "authorship_tag": "ABX9TyOMFBVUmTMhf0V0yyO/clm3",
      "include_colab_link": true
    },
    "kernelspec": {
      "name": "python3",
      "display_name": "Python 3"
    },
    "language_info": {
      "name": "python"
    }
  },
  "cells": [
    {
      "cell_type": "markdown",
      "metadata": {
        "id": "view-in-github",
        "colab_type": "text"
      },
      "source": [
        "<a href=\"https://colab.research.google.com/github/tanakt-hub/Test/blob/main/KeywordMatch.ipynb\" target=\"_parent\"><img src=\"https://colab.research.google.com/assets/colab-badge.svg\" alt=\"Open In Colab\"/></a>"
      ]
    },
    {
      "cell_type": "code",
      "source": [
        "#NLTKのインポート\n",
        "import nltk\n",
        "nltk.download(\"book\")\n",
        "#nltk.download('stopwords')\n",
        "\n",
        "#テスト用テキストの準備\n",
        "from nltk.book import *"
      ],
      "metadata": {
        "id": "pxpgp_1AJ7fe"
      },
      "execution_count": null,
      "outputs": []
    },
    {
      "cell_type": "code",
      "source": [
        "#テスト用テキストの確認\n",
        "#print(text1[1:50])"
      ],
      "metadata": {
        "id": "CYKbLkfZqfgX"
      },
      "execution_count": null,
      "outputs": []
    },
    {
      "cell_type": "code",
      "execution_count": null,
      "metadata": {
        "id": "Txkzo3QhIfL5"
      },
      "outputs": [],
      "source": [
        "#抽出後の用意\n",
        "import urllib.request\n",
        "raw_icd = \"https://raw.githubusercontent.com/tanakt-hub/Test/main/data/icd10cm_2022_List.txt\"\n",
        "\n",
        "res = urllib.request.urlopen(raw_icd)\n",
        "res = res.read().decode(\"utf-8\")\n",
        "\n",
        "ICD = res.splitlines()"
      ]
    },
    {
      "cell_type": "code",
      "source": [
        "# ICDの中身確認\n",
        "# for t, i in enumerate(ICD):\n",
        "#   print(i)\n",
        "#   if t == 5:\n",
        "#    break"
      ],
      "metadata": {
        "id": "ZWiHfRgjkYnb"
      },
      "execution_count": null,
      "outputs": []
    },
    {
      "cell_type": "code",
      "source": [
        "#Stop wordsを入手\n",
        "stop_words = nltk.corpus.stopwords.words('english')\n",
        "\n",
        "sentence = ''\n",
        "\n",
        "#ICDを1つにまとめる\n",
        "for i in ICD:\n",
        "  sentence = sentence + i.lower() + \" \" \n",
        "\n",
        "#不要文字の削除\n",
        "sentence = sentence.replace('-',' ').replace(\"'s\",'') \n",
        "\n",
        "#Tokenaze\n",
        "words = nltk.word_tokenize(sentence)\n",
        "\n",
        "#4文字以上のトークンを抽出\n",
        "wordsFiltered = []\n",
        "for w in words:\n",
        "    if w not in stop_words:\n",
        "      if len(w) > 3:\n",
        "        wordsFiltered.append(w)\n",
        "\n",
        "#重複トークンを削除してソート\n",
        "tagged = nltk.pos_tag(list(set(wordsFiltered)))\n",
        "tagged.sort()\n"
      ],
      "metadata": {
        "id": "lJRtb7zfnk8v"
      },
      "execution_count": 40,
      "outputs": []
    },
    {
      "cell_type": "code",
      "source": [
        "#トークンの中身を確認\n",
        "#print(tagged)"
      ],
      "metadata": {
        "id": "fvTaiKBAn6uh"
      },
      "execution_count": null,
      "outputs": []
    },
    {
      "cell_type": "code",
      "source": [
        "#不要な品詞を除外\n",
        "COND=[]\n",
        "\n",
        "for i in tagged:\n",
        "    cls = i[1]\n",
        "    exp = [\"JJ\", \"CD\", \"IN\", \"RB\",\",\"]\n",
        "    if cls not in exp :\n",
        "      COND.append(i)"
      ],
      "metadata": {
        "id": "IQAzRaLoKxG9"
      },
      "execution_count": 42,
      "outputs": []
    },
    {
      "cell_type": "code",
      "source": [
        "#トークンの中身と総数を確認\n",
        "#print(COND)\n",
        "#print(len(COND))"
      ],
      "metadata": {
        "id": "okGw6DV8pL2s"
      },
      "execution_count": null,
      "outputs": []
    },
    {
      "cell_type": "code",
      "source": [
        "#text1内をトークンで検索して結果を表示\n",
        "for i in COND:\n",
        "  matchwords = text1.concordance_list(i[0])\n",
        "  print( \"*** \" + str(i[0]))  \n",
        "  for j in matchwords:\n",
        "    print(\"   \" + j.line)"
      ],
      "metadata": {
        "id": "SuMa3XVksT9_"
      },
      "execution_count": null,
      "outputs": []
    }
  ]
}